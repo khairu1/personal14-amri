{
 "cells": [
  {
   "cell_type": "code",
   "execution_count": 1,
   "id": "dcbad6eb",
   "metadata": {},
   "outputs": [
    {
     "name": "stdout",
     "output_type": "stream",
     "text": [
      "6\n"
     ]
    }
   ],
   "source": [
    "#   Created by Elshad Karimov \n",
    "#   Copyright © AppMillers. All rights reserved.\n",
    "\n",
    "# Number Factor Problem  in Python\n",
    "\n",
    "def numberFactor(n):\n",
    "    if n in (0,1,2):\n",
    "        return 1\n",
    "    elif n == 3:\n",
    "        return 2\n",
    "    else:\n",
    "        subP1 = numberFactor(n-1)\n",
    "        subP2 = numberFactor(n-3)\n",
    "        subP3 = numberFactor(n-4)\n",
    "        return subP1+subP2+subP3\n",
    "\n",
    "print(numberFactor(5))"
   ]
  },
  {
   "cell_type": "code",
   "execution_count": null,
   "id": "615edfbc",
   "metadata": {},
   "outputs": [],
   "source": []
  }
 ],
 "metadata": {
  "kernelspec": {
   "display_name": "Python 3 (ipykernel)",
   "language": "python",
   "name": "python3"
  },
  "language_info": {
   "codemirror_mode": {
    "name": "ipython",
    "version": 3
   },
   "file_extension": ".py",
   "mimetype": "text/x-python",
   "name": "python",
   "nbconvert_exporter": "python",
   "pygments_lexer": "ipython3",
   "version": "3.9.12"
  }
 },
 "nbformat": 4,
 "nbformat_minor": 5
}
