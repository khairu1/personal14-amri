{
 "cells": [
  {
   "cell_type": "code",
   "execution_count": 1,
   "id": "50b8b4f6",
   "metadata": {},
   "outputs": [
    {
     "name": "stdout",
     "output_type": "stream",
     "text": [
      "41\n"
     ]
    }
   ],
   "source": [
    "#   Created by Elshad Karimov \n",
    "#   Copyright © AppMillers. All rights reserved.\n",
    "\n",
    "# House Robber Problem  in Python\n",
    "\n",
    "def houseRobber(houses, currentIndex):\n",
    "    if currentIndex >= len(houses):\n",
    "        return 0\n",
    "    else:\n",
    "        stealFirstHouse = houses[currentIndex] + houseRobber(houses, currentIndex + 2)\n",
    "        skipFirstHouse = houseRobber(houses, currentIndex+1)\n",
    "        return max(stealFirstHouse, skipFirstHouse)\n",
    "\n",
    "houses = [6,7,1,30,8,2,4]\n",
    "print(houseRobber(houses, 0))"
   ]
  },
  {
   "cell_type": "code",
   "execution_count": null,
   "id": "52647d45",
   "metadata": {},
   "outputs": [],
   "source": []
  }
 ],
 "metadata": {
  "kernelspec": {
   "display_name": "Python 3 (ipykernel)",
   "language": "python",
   "name": "python3"
  },
  "language_info": {
   "codemirror_mode": {
    "name": "ipython",
    "version": 3
   },
   "file_extension": ".py",
   "mimetype": "text/x-python",
   "name": "python",
   "nbconvert_exporter": "python",
   "pygments_lexer": "ipython3",
   "version": "3.9.12"
  }
 },
 "nbformat": 4,
 "nbformat_minor": 5
}
