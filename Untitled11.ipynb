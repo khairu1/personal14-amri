{
 "cells": [
  {
   "cell_type": "code",
   "execution_count": 1,
   "id": "92b03c76",
   "metadata": {},
   "outputs": [
    {
     "name": "stdout",
     "output_type": "stream",
     "text": [
      "Total value obtained: 240.0\n"
     ]
    }
   ],
   "source": [
    "#   Created by Elshad Karimov \n",
    "#   Copyright © AppMillers. All rights reserved.\n",
    "\n",
    "# Fractional Knapsack Problem  in Python\n",
    "\n",
    "class Item:\n",
    "    def __init__(self, weight, value):\n",
    "        self.weight = weight\n",
    "        self.value = value\n",
    "        self.ratio = value / weight\n",
    "\n",
    "def knapsackMethod(items, capacity):\n",
    "    items.sort(key=lambda x: x.ratio, reverse = True)\n",
    "    usedCapacity = 0\n",
    "    totalValue = 0\n",
    "    for i in items:\n",
    "        if usedCapacity + i.weight <= capacity:\n",
    "            usedCapacity += i.weight\n",
    "            totalValue += i.value\n",
    "        else:\n",
    "            unusedWeight = capacity - usedCapacity\n",
    "            value = i.ratio * unusedWeight\n",
    "            usedCapacity += unusedWeight\n",
    "            totalValue += value\n",
    "        \n",
    "        if usedCapacity == capacity:\n",
    "            break\n",
    "    print(\"Total value obtained: \"+str(totalValue))\n",
    "\n",
    "item1 = Item(20,100)\n",
    "item2 = Item(30,120)\n",
    "item3 = Item(10,60)\n",
    "cList = [item1, item2, item3]\n",
    "\n",
    "knapsackMethod(cList, 50)"
   ]
  },
  {
   "cell_type": "code",
   "execution_count": null,
   "id": "12be667d",
   "metadata": {},
   "outputs": [],
   "source": []
  }
 ],
 "metadata": {
  "kernelspec": {
   "display_name": "Python 3 (ipykernel)",
   "language": "python",
   "name": "python3"
  },
  "language_info": {
   "codemirror_mode": {
    "name": "ipython",
    "version": 3
   },
   "file_extension": ".py",
   "mimetype": "text/x-python",
   "name": "python",
   "nbconvert_exporter": "python",
   "pygments_lexer": "ipython3",
   "version": "3.9.12"
  }
 },
 "nbformat": 4,
 "nbformat_minor": 5
}
