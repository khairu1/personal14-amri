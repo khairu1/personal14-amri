{
 "cells": [
  {
   "cell_type": "code",
   "execution_count": 1,
   "id": "df35cc1c",
   "metadata": {},
   "outputs": [
    {
     "name": "stdout",
     "output_type": "stream",
     "text": [
      "5\n"
     ]
    }
   ],
   "source": [
    "#   Created by Elshad Karimov \n",
    "#   Copyright © AppMillers. All rights reserved.\n",
    "\n",
    "# Longest Common Subsequence in Python\n",
    "\n",
    "def findLCS(s1, s2, index1, index2):\n",
    "    if index1 == len(s1) or index2 == len(s2):\n",
    "        return 0\n",
    "    if s1[index1] == s2[index2]:\n",
    "        return 1 + findLCS(s1, s2, index1+1, index2+1)\n",
    "    else:\n",
    "        op1 = findLCS(s1,s2, index1, index2+1)\n",
    "        op2 = findLCS(s1,s2, index1+1, index2)\n",
    "        return max(op1, op2)\n",
    "\n",
    "print(findLCS(\"elephant\", \"eretpat\", 0, 0))"
   ]
  },
  {
   "cell_type": "code",
   "execution_count": null,
   "id": "acda8f91",
   "metadata": {},
   "outputs": [],
   "source": []
  }
 ],
 "metadata": {
  "kernelspec": {
   "display_name": "Python 3 (ipykernel)",
   "language": "python",
   "name": "python3"
  },
  "language_info": {
   "codemirror_mode": {
    "name": "ipython",
    "version": 3
   },
   "file_extension": ".py",
   "mimetype": "text/x-python",
   "name": "python",
   "nbconvert_exporter": "python",
   "pygments_lexer": "ipython3",
   "version": "3.9.12"
  }
 },
 "nbformat": 4,
 "nbformat_minor": 5
}
