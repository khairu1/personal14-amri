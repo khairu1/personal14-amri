{
 "cells": [
  {
   "cell_type": "code",
   "execution_count": 5,
   "id": "a2820692",
   "metadata": {},
   "outputs": [],
   "source": [
    "class Item:\n",
    "    def __init__(self, weight, value):\n",
    "        self.weight = weight\n",
    "        self.value = value\n",
    "        self.ratio = value/weight"
   ]
  },
  {
   "cell_type": "code",
   "execution_count": 9,
   "id": "cfb0ba0f",
   "metadata": {},
   "outputs": [],
   "source": [
    "def knapsackMethod(items, capacity):\n",
    "    items.sort(key=lambda x: x.ratio, reverse = True)\n",
    "    usedCapacity = 0\n",
    "    totalValue = 0\n",
    "    for i in items:\n",
    "        if usedCapacity + i.weight <= capacity:\n",
    "            usedCapacity += i.weight\n",
    "            totalValue += i.value\n",
    "        else:\n",
    "            unusedWeight = capacity - usedCapacity\n",
    "            value = i.ratio * unusedWeight\n",
    "            usedCapacity += unusedWeight\n",
    "            totalValue += value\n",
    "            \n",
    "        if usedCapacity == capacity:\n",
    "            break\n",
    "    print(\"Total value obtiened: \"+str(totalValue))"
   ]
  },
  {
   "cell_type": "code",
   "execution_count": 10,
   "id": "3c813fe9",
   "metadata": {},
   "outputs": [],
   "source": [
    "item1 = Item(20,100)\n",
    "item2 = Item(30,120)\n",
    "item3 = Item(10,60)\n",
    "clist = [item1, item2, item3]"
   ]
  },
  {
   "cell_type": "code",
   "execution_count": 11,
   "id": "0bff1e01",
   "metadata": {},
   "outputs": [
    {
     "name": "stdout",
     "output_type": "stream",
     "text": [
      "Total value obtiened: 240.0\n"
     ]
    }
   ],
   "source": [
    "knapsackMethod(clist, 50)"
   ]
  },
  {
   "cell_type": "code",
   "execution_count": null,
   "id": "e3b7bb1f",
   "metadata": {},
   "outputs": [],
   "source": []
  }
 ],
 "metadata": {
  "kernelspec": {
   "display_name": "Python 3 (ipykernel)",
   "language": "python",
   "name": "python3"
  },
  "language_info": {
   "codemirror_mode": {
    "name": "ipython",
    "version": 3
   },
   "file_extension": ".py",
   "mimetype": "text/x-python",
   "name": "python",
   "nbconvert_exporter": "python",
   "pygments_lexer": "ipython3",
   "version": "3.9.12"
  }
 },
 "nbformat": 4,
 "nbformat_minor": 5
}
